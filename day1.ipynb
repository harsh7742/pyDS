{
  "nbformat": 4,
  "nbformat_minor": 0,
  "metadata": {
    "colab": {
      "name": ".ipynb",
      "provenance": [],
      "authorship_tag": "ABX9TyOrY82DGUhgbPsa77GcjlhX",
      "include_colab_link": true
    },
    "kernelspec": {
      "name": "python3",
      "display_name": "Python 3"
    }
  },
  "cells": [
    {
      "cell_type": "markdown",
      "metadata": {
        "id": "view-in-github",
        "colab_type": "text"
      },
      "source": [
        "<a href=\"https://colab.research.google.com/github/harsh7742/pyDS/blob/master/day1.ipynb\" target=\"_parent\"><img src=\"https://colab.research.google.com/assets/colab-badge.svg\" alt=\"Open In Colab\"/></a>"
      ]
    },
    {
      "cell_type": "code",
      "metadata": {
        "id": "6dhia8Kp_9r_",
        "colab_type": "code",
        "colab": {}
      },
      "source": [
        "l = []\n",
        "x = 0\n",
        "count = 0\n",
        "while True:\n",
        "  if x % 6 != 0 and x % 2 == 0:\n",
        "    count = count + 1\n",
        "    l.append(x)\n",
        "  if count == 15:\n",
        "    break\n",
        "  x = x + 1\n",
        "\n",
        "print(l)"
      ],
      "execution_count": 0,
      "outputs": []
    }
  ]
}