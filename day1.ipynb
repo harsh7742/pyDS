{
  "nbformat": 4,
  "nbformat_minor": 0,
  "metadata": {
    "colab": {
      "name": "day1.ipynb",
      "provenance": [],
      "authorship_tag": "ABX9TyNvINi/Tu/XbcnDhbGXO7Fg",
      "include_colab_link": true
    },
    "kernelspec": {
      "name": "python3",
      "display_name": "Python 3"
    }
  },
  "cells": [
    {
      "cell_type": "markdown",
      "metadata": {
        "id": "view-in-github",
        "colab_type": "text"
      },
      "source": [
        "<a href=\"https://colab.research.google.com/github/harsh7742/pyDS/blob/master/day1.ipynb\" target=\"_parent\"><img src=\"https://colab.research.google.com/assets/colab-badge.svg\" alt=\"Open In Colab\"/></a>"
      ]
    },
    {
      "cell_type": "code",
      "metadata": {
        "id": "k9x_PQ2jRpR2",
        "colab_type": "code",
        "colab": {}
      },
      "source": [
        ""
      ],
      "execution_count": 0,
      "outputs": []
    },
    {
      "cell_type": "markdown",
      "metadata": {
        "id": "XNv9mZRyRqGG",
        "colab_type": "text"
      },
      "source": [
        "#Ques 1:- list of the first 15 even numbers that are not divisible by 6"
      ]
    },
    {
      "cell_type": "code",
      "metadata": {
        "id": "9IU-hxi5Rw0S",
        "colab_type": "code",
        "colab": {
          "base_uri": "https://localhost:8080/",
          "height": 34
        },
        "outputId": "98c017ab-c4a2-47bc-c200-6a39882603a3"
      },
      "source": [
        "l = []\n",
        "x = 0\n",
        "count = 0\n",
        "while True:\n",
        "  if x % 6 != 0 and x % 2 == 0:\n",
        "    count = count + 1\n",
        "    l.append(x)\n",
        "  if count == 15:\n",
        "    break\n",
        "  x = x + 1\n",
        "\n",
        "print(l)"
      ],
      "execution_count": 1,
      "outputs": [
        {
          "output_type": "stream",
          "text": [
            "[2, 4, 8, 10, 14, 16, 20, 22, 26, 28, 32, 34, 38, 40, 44]\n"
          ],
          "name": "stdout"
        }
      ]
    }
  ]
}