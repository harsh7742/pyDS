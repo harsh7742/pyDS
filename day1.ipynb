{
  "nbformat": 4,
  "nbformat_minor": 0,
  "metadata": {
    "colab": {
      "name": "day1.ipynb",
      "provenance": [],
      "authorship_tag": "ABX9TyPJ/wok857jD/ihBoXAfcL9",
      "include_colab_link": true
    },
    "kernelspec": {
      "name": "python3",
      "display_name": "Python 3"
    }
  },
  "cells": [
    {
      "cell_type": "markdown",
      "metadata": {
        "id": "view-in-github",
        "colab_type": "text"
      },
      "source": [
        "<a href=\"https://colab.research.google.com/github/harsh7742/pyDS/blob/master/day1.ipynb\" target=\"_parent\"><img src=\"https://colab.research.google.com/assets/colab-badge.svg\" alt=\"Open In Colab\"/></a>"
      ]
    },
    {
      "cell_type": "code",
      "metadata": {
        "id": "XqOcOSDSPSkx",
        "colab_type": "code",
        "colab": {}
      },
      "source": [
        ""
      ],
      "execution_count": 0,
      "outputs": []
    },
    {
      "cell_type": "markdown",
      "metadata": {
        "id": "HW27hYAVPV5u",
        "colab_type": "text"
      },
      "source": [
        "#Ques 2:- Write a function to Check whether given two string is anagram or not\n",
        "\n"
      ]
    },
    {
      "cell_type": "markdown",
      "metadata": {
        "id": "LIWUS4XXQGFb",
        "colab_type": "text"
      },
      "source": [
        ""
      ]
    },
    {
      "cell_type": "markdown",
      "metadata": {
        "id": "Pyr87kdjPodF",
        "colab_type": "text"
      },
      "source": [
        ""
      ]
    },
    {
      "cell_type": "markdown",
      "metadata": {
        "id": "YeZNUs5yPhp7",
        "colab_type": "text"
      },
      "source": [
        ""
      ]
    },
    {
      "cell_type": "code",
      "metadata": {
        "id": "QS0Roh_RPd1P",
        "colab_type": "code",
        "colab": {
          "base_uri": "https://localhost:8080/",
          "height": 67
        },
        "outputId": "2517c829-65a9-44d6-e2c3-795aabc9fbe8"
      },
      "source": [
        "def anagram(str1, str2):\n",
        "  if(sorted(str1) == sorted(str2)):\n",
        "    print(\"Strings are anagrams\")\n",
        "  else:\n",
        "    print(\"Strings are not anagrams\")\n",
        "\n",
        "str1 = input(\"Enter first string : \")\n",
        "str2 = input(\"Enter second string : \")\n",
        "\n",
        "anagram(str1, str2)\n"
      ],
      "execution_count": 2,
      "outputs": [
        {
          "output_type": "stream",
          "text": [
            "Enter first string : harsh\n",
            "Enter second string : sharma\n",
            "Strings are not anagrams\n"
          ],
          "name": "stdout"
        }
      ]
    }
  ]
}