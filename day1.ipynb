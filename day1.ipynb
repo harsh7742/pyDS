{
  "nbformat": 4,
  "nbformat_minor": 0,
  "metadata": {
    "colab": {
      "name": "Untitled4.ipynb",
      "provenance": [],
      "authorship_tag": "ABX9TyOTtGAI0ybvtDn+/a+0EMQC",
      "include_colab_link": true
    },
    "kernelspec": {
      "name": "python3",
      "display_name": "Python 3"
    }
  },
  "cells": [
    {
      "cell_type": "markdown",
      "metadata": {
        "id": "view-in-github",
        "colab_type": "text"
      },
      "source": [
        "<a href=\"https://colab.research.google.com/github/harsh7742/pyDS/blob/master/day1.ipynb\" target=\"_parent\"><img src=\"https://colab.research.google.com/assets/colab-badge.svg\" alt=\"Open In Colab\"/></a>"
      ]
    },
    {
      "cell_type": "code",
      "metadata": {
        "id": "7MjThU43Be7d",
        "colab_type": "code",
        "colab": {}
      },
      "source": [
        ""
      ],
      "execution_count": 0,
      "outputs": []
    },
    {
      "cell_type": "markdown",
      "metadata": {
        "id": "UtBnOxy0BgSy",
        "colab_type": "text"
      },
      "source": [
        "#Ques 2 Write a function to Check whether given two string is anagram or not\n"
      ]
    },
    {
      "cell_type": "code",
      "metadata": {
        "id": "Sgy270SFBjWP",
        "colab_type": "code",
        "colab": {}
      },
      "source": [
        "def anagram(str1, str2):\n",
        "  if(sorted(str1) == sorted(str2)):\n",
        "    print(\"Strings are anagrams\")\n",
        "  else:\n",
        "    print(\"Strings are not anagrams\")\n",
        "\n",
        "str1 = input(\"Enter first string : \")\n",
        "str2 = input(\"Enter second string : \")\n",
        "\n",
        "anagram(str1, str2)\n",
        "Ent"
      ],
      "execution_count": 0,
      "outputs": []
    }
  ]
}